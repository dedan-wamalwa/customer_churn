{
  "cells": [
    {
      "cell_type": "code",
      "execution_count": 1,
      "metadata": {
        "colab": {
          "base_uri": "https://localhost:8080/"
        },
        "id": "tLH4ct5yH6p6",
        "outputId": "3fc48c6f-7215-4246-963f-feb37e9abe8a"
      },
      "outputs": [
        {
          "output_type": "stream",
          "name": "stdout",
          "text": [
            "Mounted at /content/drive\n"
          ]
        }
      ],
      "source": [
        "from google.colab import drive\n",
        "drive.mount('/content/drive')"
      ],
      "id": "tLH4ct5yH6p6"
    },
    {
      "cell_type": "code",
      "execution_count": 2,
      "metadata": {
        "id": "2a6d98bd"
      },
      "outputs": [],
      "source": [
        "import pandas as pd\n",
        "import matplotlib.pyplot as plt\n",
        "import numpy as np\n",
        "%matplotlib inline"
      ],
      "id": "2a6d98bd"
    },
    {
      "cell_type": "code",
      "execution_count": 3,
      "metadata": {
        "id": "15606b03",
        "outputId": "7941ce19-2d50-4c68-deb1-803781368d56",
        "colab": {
          "base_uri": "https://localhost:8080/",
          "height": 386
        }
      },
      "outputs": [
        {
          "output_type": "execute_result",
          "data": {
            "text/plain": [
              "   customerID  gender  SeniorCitizen Partner Dependents  tenure PhoneService  \\\n",
              "0  7590-VHVEG  Female              0     Yes         No       1           No   \n",
              "1  5575-GNVDE    Male              0      No         No      34          Yes   \n",
              "2  3668-QPYBK    Male              0      No         No       2          Yes   \n",
              "3  7795-CFOCW    Male              0      No         No      45           No   \n",
              "4  9237-HQITU  Female              0      No         No       2          Yes   \n",
              "\n",
              "      MultipleLines InternetService OnlineSecurity  ... DeviceProtection  \\\n",
              "0  No phone service             DSL             No  ...               No   \n",
              "1                No             DSL            Yes  ...              Yes   \n",
              "2                No             DSL            Yes  ...               No   \n",
              "3  No phone service             DSL            Yes  ...              Yes   \n",
              "4                No     Fiber optic             No  ...               No   \n",
              "\n",
              "  TechSupport StreamingTV StreamingMovies        Contract PaperlessBilling  \\\n",
              "0          No          No              No  Month-to-month              Yes   \n",
              "1          No          No              No        One year               No   \n",
              "2          No          No              No  Month-to-month              Yes   \n",
              "3         Yes          No              No        One year               No   \n",
              "4          No          No              No  Month-to-month              Yes   \n",
              "\n",
              "               PaymentMethod MonthlyCharges  TotalCharges Churn  \n",
              "0           Electronic check          29.85         29.85    No  \n",
              "1               Mailed check          56.95        1889.5    No  \n",
              "2               Mailed check          53.85        108.15   Yes  \n",
              "3  Bank transfer (automatic)          42.30       1840.75    No  \n",
              "4           Electronic check          70.70        151.65   Yes  \n",
              "\n",
              "[5 rows x 21 columns]"
            ],
            "text/html": [
              "\n",
              "  <div id=\"df-5d912561-b4d4-4419-a4b2-28702757fee8\">\n",
              "    <div class=\"colab-df-container\">\n",
              "      <div>\n",
              "<style scoped>\n",
              "    .dataframe tbody tr th:only-of-type {\n",
              "        vertical-align: middle;\n",
              "    }\n",
              "\n",
              "    .dataframe tbody tr th {\n",
              "        vertical-align: top;\n",
              "    }\n",
              "\n",
              "    .dataframe thead th {\n",
              "        text-align: right;\n",
              "    }\n",
              "</style>\n",
              "<table border=\"1\" class=\"dataframe\">\n",
              "  <thead>\n",
              "    <tr style=\"text-align: right;\">\n",
              "      <th></th>\n",
              "      <th>customerID</th>\n",
              "      <th>gender</th>\n",
              "      <th>SeniorCitizen</th>\n",
              "      <th>Partner</th>\n",
              "      <th>Dependents</th>\n",
              "      <th>tenure</th>\n",
              "      <th>PhoneService</th>\n",
              "      <th>MultipleLines</th>\n",
              "      <th>InternetService</th>\n",
              "      <th>OnlineSecurity</th>\n",
              "      <th>...</th>\n",
              "      <th>DeviceProtection</th>\n",
              "      <th>TechSupport</th>\n",
              "      <th>StreamingTV</th>\n",
              "      <th>StreamingMovies</th>\n",
              "      <th>Contract</th>\n",
              "      <th>PaperlessBilling</th>\n",
              "      <th>PaymentMethod</th>\n",
              "      <th>MonthlyCharges</th>\n",
              "      <th>TotalCharges</th>\n",
              "      <th>Churn</th>\n",
              "    </tr>\n",
              "  </thead>\n",
              "  <tbody>\n",
              "    <tr>\n",
              "      <th>0</th>\n",
              "      <td>7590-VHVEG</td>\n",
              "      <td>Female</td>\n",
              "      <td>0</td>\n",
              "      <td>Yes</td>\n",
              "      <td>No</td>\n",
              "      <td>1</td>\n",
              "      <td>No</td>\n",
              "      <td>No phone service</td>\n",
              "      <td>DSL</td>\n",
              "      <td>No</td>\n",
              "      <td>...</td>\n",
              "      <td>No</td>\n",
              "      <td>No</td>\n",
              "      <td>No</td>\n",
              "      <td>No</td>\n",
              "      <td>Month-to-month</td>\n",
              "      <td>Yes</td>\n",
              "      <td>Electronic check</td>\n",
              "      <td>29.85</td>\n",
              "      <td>29.85</td>\n",
              "      <td>No</td>\n",
              "    </tr>\n",
              "    <tr>\n",
              "      <th>1</th>\n",
              "      <td>5575-GNVDE</td>\n",
              "      <td>Male</td>\n",
              "      <td>0</td>\n",
              "      <td>No</td>\n",
              "      <td>No</td>\n",
              "      <td>34</td>\n",
              "      <td>Yes</td>\n",
              "      <td>No</td>\n",
              "      <td>DSL</td>\n",
              "      <td>Yes</td>\n",
              "      <td>...</td>\n",
              "      <td>Yes</td>\n",
              "      <td>No</td>\n",
              "      <td>No</td>\n",
              "      <td>No</td>\n",
              "      <td>One year</td>\n",
              "      <td>No</td>\n",
              "      <td>Mailed check</td>\n",
              "      <td>56.95</td>\n",
              "      <td>1889.5</td>\n",
              "      <td>No</td>\n",
              "    </tr>\n",
              "    <tr>\n",
              "      <th>2</th>\n",
              "      <td>3668-QPYBK</td>\n",
              "      <td>Male</td>\n",
              "      <td>0</td>\n",
              "      <td>No</td>\n",
              "      <td>No</td>\n",
              "      <td>2</td>\n",
              "      <td>Yes</td>\n",
              "      <td>No</td>\n",
              "      <td>DSL</td>\n",
              "      <td>Yes</td>\n",
              "      <td>...</td>\n",
              "      <td>No</td>\n",
              "      <td>No</td>\n",
              "      <td>No</td>\n",
              "      <td>No</td>\n",
              "      <td>Month-to-month</td>\n",
              "      <td>Yes</td>\n",
              "      <td>Mailed check</td>\n",
              "      <td>53.85</td>\n",
              "      <td>108.15</td>\n",
              "      <td>Yes</td>\n",
              "    </tr>\n",
              "    <tr>\n",
              "      <th>3</th>\n",
              "      <td>7795-CFOCW</td>\n",
              "      <td>Male</td>\n",
              "      <td>0</td>\n",
              "      <td>No</td>\n",
              "      <td>No</td>\n",
              "      <td>45</td>\n",
              "      <td>No</td>\n",
              "      <td>No phone service</td>\n",
              "      <td>DSL</td>\n",
              "      <td>Yes</td>\n",
              "      <td>...</td>\n",
              "      <td>Yes</td>\n",
              "      <td>Yes</td>\n",
              "      <td>No</td>\n",
              "      <td>No</td>\n",
              "      <td>One year</td>\n",
              "      <td>No</td>\n",
              "      <td>Bank transfer (automatic)</td>\n",
              "      <td>42.30</td>\n",
              "      <td>1840.75</td>\n",
              "      <td>No</td>\n",
              "    </tr>\n",
              "    <tr>\n",
              "      <th>4</th>\n",
              "      <td>9237-HQITU</td>\n",
              "      <td>Female</td>\n",
              "      <td>0</td>\n",
              "      <td>No</td>\n",
              "      <td>No</td>\n",
              "      <td>2</td>\n",
              "      <td>Yes</td>\n",
              "      <td>No</td>\n",
              "      <td>Fiber optic</td>\n",
              "      <td>No</td>\n",
              "      <td>...</td>\n",
              "      <td>No</td>\n",
              "      <td>No</td>\n",
              "      <td>No</td>\n",
              "      <td>No</td>\n",
              "      <td>Month-to-month</td>\n",
              "      <td>Yes</td>\n",
              "      <td>Electronic check</td>\n",
              "      <td>70.70</td>\n",
              "      <td>151.65</td>\n",
              "      <td>Yes</td>\n",
              "    </tr>\n",
              "  </tbody>\n",
              "</table>\n",
              "<p>5 rows × 21 columns</p>\n",
              "</div>\n",
              "      <button class=\"colab-df-convert\" onclick=\"convertToInteractive('df-5d912561-b4d4-4419-a4b2-28702757fee8')\"\n",
              "              title=\"Convert this dataframe to an interactive table.\"\n",
              "              style=\"display:none;\">\n",
              "        \n",
              "  <svg xmlns=\"http://www.w3.org/2000/svg\" height=\"24px\"viewBox=\"0 0 24 24\"\n",
              "       width=\"24px\">\n",
              "    <path d=\"M0 0h24v24H0V0z\" fill=\"none\"/>\n",
              "    <path d=\"M18.56 5.44l.94 2.06.94-2.06 2.06-.94-2.06-.94-.94-2.06-.94 2.06-2.06.94zm-11 1L8.5 8.5l.94-2.06 2.06-.94-2.06-.94L8.5 2.5l-.94 2.06-2.06.94zm10 10l.94 2.06.94-2.06 2.06-.94-2.06-.94-.94-2.06-.94 2.06-2.06.94z\"/><path d=\"M17.41 7.96l-1.37-1.37c-.4-.4-.92-.59-1.43-.59-.52 0-1.04.2-1.43.59L10.3 9.45l-7.72 7.72c-.78.78-.78 2.05 0 2.83L4 21.41c.39.39.9.59 1.41.59.51 0 1.02-.2 1.41-.59l7.78-7.78 2.81-2.81c.8-.78.8-2.07 0-2.86zM5.41 20L4 18.59l7.72-7.72 1.47 1.35L5.41 20z\"/>\n",
              "  </svg>\n",
              "      </button>\n",
              "      \n",
              "  <style>\n",
              "    .colab-df-container {\n",
              "      display:flex;\n",
              "      flex-wrap:wrap;\n",
              "      gap: 12px;\n",
              "    }\n",
              "\n",
              "    .colab-df-convert {\n",
              "      background-color: #E8F0FE;\n",
              "      border: none;\n",
              "      border-radius: 50%;\n",
              "      cursor: pointer;\n",
              "      display: none;\n",
              "      fill: #1967D2;\n",
              "      height: 32px;\n",
              "      padding: 0 0 0 0;\n",
              "      width: 32px;\n",
              "    }\n",
              "\n",
              "    .colab-df-convert:hover {\n",
              "      background-color: #E2EBFA;\n",
              "      box-shadow: 0px 1px 2px rgba(60, 64, 67, 0.3), 0px 1px 3px 1px rgba(60, 64, 67, 0.15);\n",
              "      fill: #174EA6;\n",
              "    }\n",
              "\n",
              "    [theme=dark] .colab-df-convert {\n",
              "      background-color: #3B4455;\n",
              "      fill: #D2E3FC;\n",
              "    }\n",
              "\n",
              "    [theme=dark] .colab-df-convert:hover {\n",
              "      background-color: #434B5C;\n",
              "      box-shadow: 0px 1px 3px 1px rgba(0, 0, 0, 0.15);\n",
              "      filter: drop-shadow(0px 1px 2px rgba(0, 0, 0, 0.3));\n",
              "      fill: #FFFFFF;\n",
              "    }\n",
              "  </style>\n",
              "\n",
              "      <script>\n",
              "        const buttonEl =\n",
              "          document.querySelector('#df-5d912561-b4d4-4419-a4b2-28702757fee8 button.colab-df-convert');\n",
              "        buttonEl.style.display =\n",
              "          google.colab.kernel.accessAllowed ? 'block' : 'none';\n",
              "\n",
              "        async function convertToInteractive(key) {\n",
              "          const element = document.querySelector('#df-5d912561-b4d4-4419-a4b2-28702757fee8');\n",
              "          const dataTable =\n",
              "            await google.colab.kernel.invokeFunction('convertToInteractive',\n",
              "                                                     [key], {});\n",
              "          if (!dataTable) return;\n",
              "\n",
              "          const docLinkHtml = 'Like what you see? Visit the ' +\n",
              "            '<a target=\"_blank\" href=https://colab.research.google.com/notebooks/data_table.ipynb>data table notebook</a>'\n",
              "            + ' to learn more about interactive tables.';\n",
              "          element.innerHTML = '';\n",
              "          dataTable['output_type'] = 'display_data';\n",
              "          await google.colab.output.renderOutput(dataTable, element);\n",
              "          const docLink = document.createElement('div');\n",
              "          docLink.innerHTML = docLinkHtml;\n",
              "          element.appendChild(docLink);\n",
              "        }\n",
              "      </script>\n",
              "    </div>\n",
              "  </div>\n",
              "  "
            ]
          },
          "metadata": {},
          "execution_count": 3
        }
      ],
      "source": [
        "# reading data\n",
        "path='/content/drive/MyDrive/y4s2/NLP/WA_Fn-UseC_-Telco-Customer-Churn.csv'\n",
        "churn_data=pd.read_csv(path)\n",
        "churn_data.head()"
      ],
      "id": "15606b03"
    },
    {
      "cell_type": "code",
      "execution_count": 4,
      "metadata": {
        "id": "705f3b6b",
        "scrolled": true
      },
      "outputs": [],
      "source": [
        "# customer id is not important in this case so we drop it\n",
        "churn_data.drop('customerID',axis=1,inplace=True)"
      ],
      "id": "705f3b6b"
    },
    {
      "cell_type": "code",
      "execution_count": 5,
      "metadata": {
        "id": "d65bd056",
        "colab": {
          "base_uri": "https://localhost:8080/"
        },
        "outputId": "ce81df5d-1e06-4033-abda-c7dffe605695"
      },
      "outputs": [
        {
          "output_type": "execute_result",
          "data": {
            "text/plain": [
              "gender               object\n",
              "SeniorCitizen         int64\n",
              "Partner              object\n",
              "Dependents           object\n",
              "tenure                int64\n",
              "PhoneService         object\n",
              "MultipleLines        object\n",
              "InternetService      object\n",
              "OnlineSecurity       object\n",
              "OnlineBackup         object\n",
              "DeviceProtection     object\n",
              "TechSupport          object\n",
              "StreamingTV          object\n",
              "StreamingMovies      object\n",
              "Contract             object\n",
              "PaperlessBilling     object\n",
              "PaymentMethod        object\n",
              "MonthlyCharges      float64\n",
              "TotalCharges         object\n",
              "Churn                object\n",
              "dtype: object"
            ]
          },
          "metadata": {},
          "execution_count": 5
        }
      ],
      "source": [
        "churn_data.dtypes"
      ],
      "id": "d65bd056"
    },
    {
      "cell_type": "code",
      "execution_count": 6,
      "metadata": {
        "id": "ca8218c4",
        "colab": {
          "base_uri": "https://localhost:8080/"
        },
        "outputId": "57068d2c-8abb-48ae-e05f-f900141efd3d"
      },
      "outputs": [
        {
          "output_type": "execute_result",
          "data": {
            "text/plain": [
              "0       False\n",
              "1       False\n",
              "2       False\n",
              "3       False\n",
              "4       False\n",
              "        ...  \n",
              "7038    False\n",
              "7039    False\n",
              "7040    False\n",
              "7041    False\n",
              "7042    False\n",
              "Name: TotalCharges, Length: 7043, dtype: bool"
            ]
          },
          "metadata": {},
          "execution_count": 6
        }
      ],
      "source": [
        "# conveting total charges to numeric values\n",
        "pd.to_numeric(churn_data.TotalCharges,errors='coerce').isnull()"
      ],
      "id": "ca8218c4"
    },
    {
      "cell_type": "code",
      "execution_count": 7,
      "metadata": {
        "id": "94e6c609",
        "colab": {
          "base_uri": "https://localhost:8080/",
          "height": 615
        },
        "outputId": "efa17264-2c33-4643-f537-147d0be168b0"
      },
      "outputs": [
        {
          "output_type": "execute_result",
          "data": {
            "text/plain": [
              "      gender  SeniorCitizen Partner Dependents  tenure PhoneService  \\\n",
              "488   Female              0     Yes        Yes       0           No   \n",
              "753     Male              0      No        Yes       0          Yes   \n",
              "936   Female              0     Yes        Yes       0          Yes   \n",
              "1082    Male              0     Yes        Yes       0          Yes   \n",
              "1340  Female              0     Yes        Yes       0           No   \n",
              "3331    Male              0     Yes        Yes       0          Yes   \n",
              "3826    Male              0     Yes        Yes       0          Yes   \n",
              "4380  Female              0     Yes        Yes       0          Yes   \n",
              "5218    Male              0     Yes        Yes       0          Yes   \n",
              "6670  Female              0     Yes        Yes       0          Yes   \n",
              "6754    Male              0      No        Yes       0          Yes   \n",
              "\n",
              "         MultipleLines InternetService       OnlineSecurity  \\\n",
              "488   No phone service             DSL                  Yes   \n",
              "753                 No              No  No internet service   \n",
              "936                 No             DSL                  Yes   \n",
              "1082               Yes              No  No internet service   \n",
              "1340  No phone service             DSL                  Yes   \n",
              "3331                No              No  No internet service   \n",
              "3826               Yes              No  No internet service   \n",
              "4380                No              No  No internet service   \n",
              "5218                No              No  No internet service   \n",
              "6670               Yes             DSL                   No   \n",
              "6754               Yes             DSL                  Yes   \n",
              "\n",
              "             OnlineBackup     DeviceProtection          TechSupport  \\\n",
              "488                    No                  Yes                  Yes   \n",
              "753   No internet service  No internet service  No internet service   \n",
              "936                   Yes                  Yes                   No   \n",
              "1082  No internet service  No internet service  No internet service   \n",
              "1340                  Yes                  Yes                  Yes   \n",
              "3331  No internet service  No internet service  No internet service   \n",
              "3826  No internet service  No internet service  No internet service   \n",
              "4380  No internet service  No internet service  No internet service   \n",
              "5218  No internet service  No internet service  No internet service   \n",
              "6670                  Yes                  Yes                  Yes   \n",
              "6754                  Yes                   No                  Yes   \n",
              "\n",
              "              StreamingTV      StreamingMovies  Contract PaperlessBilling  \\\n",
              "488                   Yes                   No  Two year              Yes   \n",
              "753   No internet service  No internet service  Two year               No   \n",
              "936                   Yes                  Yes  Two year               No   \n",
              "1082  No internet service  No internet service  Two year               No   \n",
              "1340                  Yes                   No  Two year               No   \n",
              "3331  No internet service  No internet service  Two year               No   \n",
              "3826  No internet service  No internet service  Two year               No   \n",
              "4380  No internet service  No internet service  Two year               No   \n",
              "5218  No internet service  No internet service  One year              Yes   \n",
              "6670                  Yes                   No  Two year               No   \n",
              "6754                   No                   No  Two year              Yes   \n",
              "\n",
              "                  PaymentMethod  MonthlyCharges TotalCharges Churn  \n",
              "488   Bank transfer (automatic)           52.55                 No  \n",
              "753                Mailed check           20.25                 No  \n",
              "936                Mailed check           80.85                 No  \n",
              "1082               Mailed check           25.75                 No  \n",
              "1340    Credit card (automatic)           56.05                 No  \n",
              "3331               Mailed check           19.85                 No  \n",
              "3826               Mailed check           25.35                 No  \n",
              "4380               Mailed check           20.00                 No  \n",
              "5218               Mailed check           19.70                 No  \n",
              "6670               Mailed check           73.35                 No  \n",
              "6754  Bank transfer (automatic)           61.90                 No  "
            ],
            "text/html": [
              "\n",
              "  <div id=\"df-dddd0a33-7d5d-4bd9-b372-e6c2ef1815ae\">\n",
              "    <div class=\"colab-df-container\">\n",
              "      <div>\n",
              "<style scoped>\n",
              "    .dataframe tbody tr th:only-of-type {\n",
              "        vertical-align: middle;\n",
              "    }\n",
              "\n",
              "    .dataframe tbody tr th {\n",
              "        vertical-align: top;\n",
              "    }\n",
              "\n",
              "    .dataframe thead th {\n",
              "        text-align: right;\n",
              "    }\n",
              "</style>\n",
              "<table border=\"1\" class=\"dataframe\">\n",
              "  <thead>\n",
              "    <tr style=\"text-align: right;\">\n",
              "      <th></th>\n",
              "      <th>gender</th>\n",
              "      <th>SeniorCitizen</th>\n",
              "      <th>Partner</th>\n",
              "      <th>Dependents</th>\n",
              "      <th>tenure</th>\n",
              "      <th>PhoneService</th>\n",
              "      <th>MultipleLines</th>\n",
              "      <th>InternetService</th>\n",
              "      <th>OnlineSecurity</th>\n",
              "      <th>OnlineBackup</th>\n",
              "      <th>DeviceProtection</th>\n",
              "      <th>TechSupport</th>\n",
              "      <th>StreamingTV</th>\n",
              "      <th>StreamingMovies</th>\n",
              "      <th>Contract</th>\n",
              "      <th>PaperlessBilling</th>\n",
              "      <th>PaymentMethod</th>\n",
              "      <th>MonthlyCharges</th>\n",
              "      <th>TotalCharges</th>\n",
              "      <th>Churn</th>\n",
              "    </tr>\n",
              "  </thead>\n",
              "  <tbody>\n",
              "    <tr>\n",
              "      <th>488</th>\n",
              "      <td>Female</td>\n",
              "      <td>0</td>\n",
              "      <td>Yes</td>\n",
              "      <td>Yes</td>\n",
              "      <td>0</td>\n",
              "      <td>No</td>\n",
              "      <td>No phone service</td>\n",
              "      <td>DSL</td>\n",
              "      <td>Yes</td>\n",
              "      <td>No</td>\n",
              "      <td>Yes</td>\n",
              "      <td>Yes</td>\n",
              "      <td>Yes</td>\n",
              "      <td>No</td>\n",
              "      <td>Two year</td>\n",
              "      <td>Yes</td>\n",
              "      <td>Bank transfer (automatic)</td>\n",
              "      <td>52.55</td>\n",
              "      <td></td>\n",
              "      <td>No</td>\n",
              "    </tr>\n",
              "    <tr>\n",
              "      <th>753</th>\n",
              "      <td>Male</td>\n",
              "      <td>0</td>\n",
              "      <td>No</td>\n",
              "      <td>Yes</td>\n",
              "      <td>0</td>\n",
              "      <td>Yes</td>\n",
              "      <td>No</td>\n",
              "      <td>No</td>\n",
              "      <td>No internet service</td>\n",
              "      <td>No internet service</td>\n",
              "      <td>No internet service</td>\n",
              "      <td>No internet service</td>\n",
              "      <td>No internet service</td>\n",
              "      <td>No internet service</td>\n",
              "      <td>Two year</td>\n",
              "      <td>No</td>\n",
              "      <td>Mailed check</td>\n",
              "      <td>20.25</td>\n",
              "      <td></td>\n",
              "      <td>No</td>\n",
              "    </tr>\n",
              "    <tr>\n",
              "      <th>936</th>\n",
              "      <td>Female</td>\n",
              "      <td>0</td>\n",
              "      <td>Yes</td>\n",
              "      <td>Yes</td>\n",
              "      <td>0</td>\n",
              "      <td>Yes</td>\n",
              "      <td>No</td>\n",
              "      <td>DSL</td>\n",
              "      <td>Yes</td>\n",
              "      <td>Yes</td>\n",
              "      <td>Yes</td>\n",
              "      <td>No</td>\n",
              "      <td>Yes</td>\n",
              "      <td>Yes</td>\n",
              "      <td>Two year</td>\n",
              "      <td>No</td>\n",
              "      <td>Mailed check</td>\n",
              "      <td>80.85</td>\n",
              "      <td></td>\n",
              "      <td>No</td>\n",
              "    </tr>\n",
              "    <tr>\n",
              "      <th>1082</th>\n",
              "      <td>Male</td>\n",
              "      <td>0</td>\n",
              "      <td>Yes</td>\n",
              "      <td>Yes</td>\n",
              "      <td>0</td>\n",
              "      <td>Yes</td>\n",
              "      <td>Yes</td>\n",
              "      <td>No</td>\n",
              "      <td>No internet service</td>\n",
              "      <td>No internet service</td>\n",
              "      <td>No internet service</td>\n",
              "      <td>No internet service</td>\n",
              "      <td>No internet service</td>\n",
              "      <td>No internet service</td>\n",
              "      <td>Two year</td>\n",
              "      <td>No</td>\n",
              "      <td>Mailed check</td>\n",
              "      <td>25.75</td>\n",
              "      <td></td>\n",
              "      <td>No</td>\n",
              "    </tr>\n",
              "    <tr>\n",
              "      <th>1340</th>\n",
              "      <td>Female</td>\n",
              "      <td>0</td>\n",
              "      <td>Yes</td>\n",
              "      <td>Yes</td>\n",
              "      <td>0</td>\n",
              "      <td>No</td>\n",
              "      <td>No phone service</td>\n",
              "      <td>DSL</td>\n",
              "      <td>Yes</td>\n",
              "      <td>Yes</td>\n",
              "      <td>Yes</td>\n",
              "      <td>Yes</td>\n",
              "      <td>Yes</td>\n",
              "      <td>No</td>\n",
              "      <td>Two year</td>\n",
              "      <td>No</td>\n",
              "      <td>Credit card (automatic)</td>\n",
              "      <td>56.05</td>\n",
              "      <td></td>\n",
              "      <td>No</td>\n",
              "    </tr>\n",
              "    <tr>\n",
              "      <th>3331</th>\n",
              "      <td>Male</td>\n",
              "      <td>0</td>\n",
              "      <td>Yes</td>\n",
              "      <td>Yes</td>\n",
              "      <td>0</td>\n",
              "      <td>Yes</td>\n",
              "      <td>No</td>\n",
              "      <td>No</td>\n",
              "      <td>No internet service</td>\n",
              "      <td>No internet service</td>\n",
              "      <td>No internet service</td>\n",
              "      <td>No internet service</td>\n",
              "      <td>No internet service</td>\n",
              "      <td>No internet service</td>\n",
              "      <td>Two year</td>\n",
              "      <td>No</td>\n",
              "      <td>Mailed check</td>\n",
              "      <td>19.85</td>\n",
              "      <td></td>\n",
              "      <td>No</td>\n",
              "    </tr>\n",
              "    <tr>\n",
              "      <th>3826</th>\n",
              "      <td>Male</td>\n",
              "      <td>0</td>\n",
              "      <td>Yes</td>\n",
              "      <td>Yes</td>\n",
              "      <td>0</td>\n",
              "      <td>Yes</td>\n",
              "      <td>Yes</td>\n",
              "      <td>No</td>\n",
              "      <td>No internet service</td>\n",
              "      <td>No internet service</td>\n",
              "      <td>No internet service</td>\n",
              "      <td>No internet service</td>\n",
              "      <td>No internet service</td>\n",
              "      <td>No internet service</td>\n",
              "      <td>Two year</td>\n",
              "      <td>No</td>\n",
              "      <td>Mailed check</td>\n",
              "      <td>25.35</td>\n",
              "      <td></td>\n",
              "      <td>No</td>\n",
              "    </tr>\n",
              "    <tr>\n",
              "      <th>4380</th>\n",
              "      <td>Female</td>\n",
              "      <td>0</td>\n",
              "      <td>Yes</td>\n",
              "      <td>Yes</td>\n",
              "      <td>0</td>\n",
              "      <td>Yes</td>\n",
              "      <td>No</td>\n",
              "      <td>No</td>\n",
              "      <td>No internet service</td>\n",
              "      <td>No internet service</td>\n",
              "      <td>No internet service</td>\n",
              "      <td>No internet service</td>\n",
              "      <td>No internet service</td>\n",
              "      <td>No internet service</td>\n",
              "      <td>Two year</td>\n",
              "      <td>No</td>\n",
              "      <td>Mailed check</td>\n",
              "      <td>20.00</td>\n",
              "      <td></td>\n",
              "      <td>No</td>\n",
              "    </tr>\n",
              "    <tr>\n",
              "      <th>5218</th>\n",
              "      <td>Male</td>\n",
              "      <td>0</td>\n",
              "      <td>Yes</td>\n",
              "      <td>Yes</td>\n",
              "      <td>0</td>\n",
              "      <td>Yes</td>\n",
              "      <td>No</td>\n",
              "      <td>No</td>\n",
              "      <td>No internet service</td>\n",
              "      <td>No internet service</td>\n",
              "      <td>No internet service</td>\n",
              "      <td>No internet service</td>\n",
              "      <td>No internet service</td>\n",
              "      <td>No internet service</td>\n",
              "      <td>One year</td>\n",
              "      <td>Yes</td>\n",
              "      <td>Mailed check</td>\n",
              "      <td>19.70</td>\n",
              "      <td></td>\n",
              "      <td>No</td>\n",
              "    </tr>\n",
              "    <tr>\n",
              "      <th>6670</th>\n",
              "      <td>Female</td>\n",
              "      <td>0</td>\n",
              "      <td>Yes</td>\n",
              "      <td>Yes</td>\n",
              "      <td>0</td>\n",
              "      <td>Yes</td>\n",
              "      <td>Yes</td>\n",
              "      <td>DSL</td>\n",
              "      <td>No</td>\n",
              "      <td>Yes</td>\n",
              "      <td>Yes</td>\n",
              "      <td>Yes</td>\n",
              "      <td>Yes</td>\n",
              "      <td>No</td>\n",
              "      <td>Two year</td>\n",
              "      <td>No</td>\n",
              "      <td>Mailed check</td>\n",
              "      <td>73.35</td>\n",
              "      <td></td>\n",
              "      <td>No</td>\n",
              "    </tr>\n",
              "    <tr>\n",
              "      <th>6754</th>\n",
              "      <td>Male</td>\n",
              "      <td>0</td>\n",
              "      <td>No</td>\n",
              "      <td>Yes</td>\n",
              "      <td>0</td>\n",
              "      <td>Yes</td>\n",
              "      <td>Yes</td>\n",
              "      <td>DSL</td>\n",
              "      <td>Yes</td>\n",
              "      <td>Yes</td>\n",
              "      <td>No</td>\n",
              "      <td>Yes</td>\n",
              "      <td>No</td>\n",
              "      <td>No</td>\n",
              "      <td>Two year</td>\n",
              "      <td>Yes</td>\n",
              "      <td>Bank transfer (automatic)</td>\n",
              "      <td>61.90</td>\n",
              "      <td></td>\n",
              "      <td>No</td>\n",
              "    </tr>\n",
              "  </tbody>\n",
              "</table>\n",
              "</div>\n",
              "      <button class=\"colab-df-convert\" onclick=\"convertToInteractive('df-dddd0a33-7d5d-4bd9-b372-e6c2ef1815ae')\"\n",
              "              title=\"Convert this dataframe to an interactive table.\"\n",
              "              style=\"display:none;\">\n",
              "        \n",
              "  <svg xmlns=\"http://www.w3.org/2000/svg\" height=\"24px\"viewBox=\"0 0 24 24\"\n",
              "       width=\"24px\">\n",
              "    <path d=\"M0 0h24v24H0V0z\" fill=\"none\"/>\n",
              "    <path d=\"M18.56 5.44l.94 2.06.94-2.06 2.06-.94-2.06-.94-.94-2.06-.94 2.06-2.06.94zm-11 1L8.5 8.5l.94-2.06 2.06-.94-2.06-.94L8.5 2.5l-.94 2.06-2.06.94zm10 10l.94 2.06.94-2.06 2.06-.94-2.06-.94-.94-2.06-.94 2.06-2.06.94z\"/><path d=\"M17.41 7.96l-1.37-1.37c-.4-.4-.92-.59-1.43-.59-.52 0-1.04.2-1.43.59L10.3 9.45l-7.72 7.72c-.78.78-.78 2.05 0 2.83L4 21.41c.39.39.9.59 1.41.59.51 0 1.02-.2 1.41-.59l7.78-7.78 2.81-2.81c.8-.78.8-2.07 0-2.86zM5.41 20L4 18.59l7.72-7.72 1.47 1.35L5.41 20z\"/>\n",
              "  </svg>\n",
              "      </button>\n",
              "      \n",
              "  <style>\n",
              "    .colab-df-container {\n",
              "      display:flex;\n",
              "      flex-wrap:wrap;\n",
              "      gap: 12px;\n",
              "    }\n",
              "\n",
              "    .colab-df-convert {\n",
              "      background-color: #E8F0FE;\n",
              "      border: none;\n",
              "      border-radius: 50%;\n",
              "      cursor: pointer;\n",
              "      display: none;\n",
              "      fill: #1967D2;\n",
              "      height: 32px;\n",
              "      padding: 0 0 0 0;\n",
              "      width: 32px;\n",
              "    }\n",
              "\n",
              "    .colab-df-convert:hover {\n",
              "      background-color: #E2EBFA;\n",
              "      box-shadow: 0px 1px 2px rgba(60, 64, 67, 0.3), 0px 1px 3px 1px rgba(60, 64, 67, 0.15);\n",
              "      fill: #174EA6;\n",
              "    }\n",
              "\n",
              "    [theme=dark] .colab-df-convert {\n",
              "      background-color: #3B4455;\n",
              "      fill: #D2E3FC;\n",
              "    }\n",
              "\n",
              "    [theme=dark] .colab-df-convert:hover {\n",
              "      background-color: #434B5C;\n",
              "      box-shadow: 0px 1px 3px 1px rgba(0, 0, 0, 0.15);\n",
              "      filter: drop-shadow(0px 1px 2px rgba(0, 0, 0, 0.3));\n",
              "      fill: #FFFFFF;\n",
              "    }\n",
              "  </style>\n",
              "\n",
              "      <script>\n",
              "        const buttonEl =\n",
              "          document.querySelector('#df-dddd0a33-7d5d-4bd9-b372-e6c2ef1815ae button.colab-df-convert');\n",
              "        buttonEl.style.display =\n",
              "          google.colab.kernel.accessAllowed ? 'block' : 'none';\n",
              "\n",
              "        async function convertToInteractive(key) {\n",
              "          const element = document.querySelector('#df-dddd0a33-7d5d-4bd9-b372-e6c2ef1815ae');\n",
              "          const dataTable =\n",
              "            await google.colab.kernel.invokeFunction('convertToInteractive',\n",
              "                                                     [key], {});\n",
              "          if (!dataTable) return;\n",
              "\n",
              "          const docLinkHtml = 'Like what you see? Visit the ' +\n",
              "            '<a target=\"_blank\" href=https://colab.research.google.com/notebooks/data_table.ipynb>data table notebook</a>'\n",
              "            + ' to learn more about interactive tables.';\n",
              "          element.innerHTML = '';\n",
              "          dataTable['output_type'] = 'display_data';\n",
              "          await google.colab.output.renderOutput(dataTable, element);\n",
              "          const docLink = document.createElement('div');\n",
              "          docLink.innerHTML = docLinkHtml;\n",
              "          element.appendChild(docLink);\n",
              "        }\n",
              "      </script>\n",
              "    </div>\n",
              "  </div>\n",
              "  "
            ]
          },
          "metadata": {},
          "execution_count": 7
        }
      ],
      "source": [
        "# displaying rows where total charges is not a number\n",
        "churn_data[pd.to_numeric(churn_data.TotalCharges,errors='coerce').isnull()]"
      ],
      "id": "94e6c609"
    },
    {
      "cell_type": "code",
      "execution_count": 8,
      "metadata": {
        "id": "fe8c00e0",
        "colab": {
          "base_uri": "https://localhost:8080/"
        },
        "outputId": "8e41bc2d-ccfe-4e1d-fa36-f6125e5e8133"
      },
      "outputs": [
        {
          "output_type": "execute_result",
          "data": {
            "text/plain": [
              "(7032, 20)"
            ]
          },
          "metadata": {},
          "execution_count": 8
        }
      ],
      "source": [
        "# new data frame without null values in total charges\n",
        "df=churn_data[churn_data.TotalCharges !=\" \"]\n",
        "df.shape"
      ],
      "id": "fe8c00e0"
    },
    {
      "cell_type": "code",
      "execution_count": 9,
      "metadata": {
        "id": "7c31b116",
        "colab": {
          "base_uri": "https://localhost:8080/"
        },
        "outputId": "3a850a51-587b-4c6d-ddcb-15d3c09becbb"
      },
      "outputs": [
        {
          "output_type": "execute_result",
          "data": {
            "text/plain": [
              "gender               object\n",
              "SeniorCitizen         int64\n",
              "Partner              object\n",
              "Dependents           object\n",
              "tenure                int64\n",
              "PhoneService         object\n",
              "MultipleLines        object\n",
              "InternetService      object\n",
              "OnlineSecurity       object\n",
              "OnlineBackup         object\n",
              "DeviceProtection     object\n",
              "TechSupport          object\n",
              "StreamingTV          object\n",
              "StreamingMovies      object\n",
              "Contract             object\n",
              "PaperlessBilling     object\n",
              "PaymentMethod        object\n",
              "MonthlyCharges      float64\n",
              "TotalCharges         object\n",
              "Churn                object\n",
              "dtype: object"
            ]
          },
          "metadata": {},
          "execution_count": 9
        }
      ],
      "source": [
        "df.dtypes"
      ],
      "id": "7c31b116"
    },
    {
      "cell_type": "code",
      "execution_count": 10,
      "metadata": {
        "id": "c88a4fb0",
        "colab": {
          "base_uri": "https://localhost:8080/"
        },
        "outputId": "faaec982-29eb-4222-cfde-2a5b60aaac7a"
      },
      "outputs": [
        {
          "output_type": "stream",
          "name": "stderr",
          "text": [
            "/usr/local/lib/python3.7/dist-packages/pandas/core/generic.py:5516: SettingWithCopyWarning: \n",
            "A value is trying to be set on a copy of a slice from a DataFrame.\n",
            "Try using .loc[row_indexer,col_indexer] = value instead\n",
            "\n",
            "See the caveats in the documentation: https://pandas.pydata.org/pandas-docs/stable/user_guide/indexing.html#returning-a-view-versus-a-copy\n",
            "  self[name] = value\n"
          ]
        }
      ],
      "source": [
        "# converting the values to integers after filtering\n",
        "df.TotalCharges = pd.to_numeric(df.TotalCharges)"
      ],
      "id": "c88a4fb0"
    },
    {
      "cell_type": "code",
      "execution_count": 11,
      "metadata": {
        "id": "83a171d1",
        "colab": {
          "base_uri": "https://localhost:8080/"
        },
        "outputId": "6b792b42-618d-455c-9c1d-9b931af8d53c"
      },
      "outputs": [
        {
          "output_type": "execute_result",
          "data": {
            "text/plain": [
              "dtype('float64')"
            ]
          },
          "metadata": {},
          "execution_count": 11
        }
      ],
      "source": [
        "df.TotalCharges.dtypes"
      ],
      "id": "83a171d1"
    },
    {
      "cell_type": "code",
      "execution_count": 12,
      "metadata": {
        "id": "1fecefae",
        "colab": {
          "base_uri": "https://localhost:8080/",
          "height": 404
        },
        "outputId": "b6892f8a-c929-4eb5-cc17-3d84a4646e52"
      },
      "outputs": [
        {
          "output_type": "stream",
          "name": "stderr",
          "text": [
            "/usr/local/lib/python3.7/dist-packages/numpy/core/fromnumeric.py:3208: VisibleDeprecationWarning: Creating an ndarray from ragged nested sequences (which is a list-or-tuple of lists-or-tuples-or ndarrays with different lengths or shapes) is deprecated. If you meant to do this, you must specify 'dtype=object' when creating the ndarray.\n",
            "  return asarray(a).size\n",
            "/usr/local/lib/python3.7/dist-packages/matplotlib/cbook/__init__.py:1376: VisibleDeprecationWarning: Creating an ndarray from ragged nested sequences (which is a list-or-tuple of lists-or-tuples-or ndarrays with different lengths or shapes) is deprecated. If you meant to do this, you must specify 'dtype=object' when creating the ndarray.\n",
            "  X = np.atleast_1d(X.T if isinstance(X, np.ndarray) else np.asarray(X))\n"
          ]
        },
        {
          "output_type": "execute_result",
          "data": {
            "text/plain": [
              "<matplotlib.legend.Legend at 0x7f820a393110>"
            ]
          },
          "metadata": {},
          "execution_count": 12
        },
        {
          "output_type": "display_data",
          "data": {
            "text/plain": [
              "<Figure size 432x288 with 1 Axes>"
            ],
            "image/png": "[encoded data removed]"
          },
          "metadata": {
            "needs_background": "light"
          }
        }
      ],
      "source": [
        "# some visualization of customers leaving and those staying based on their tenure\n",
        "tenure_churn_no=df[df.Churn ==\"No\"].tenure\n",
        "tenure_churn_yes=df[df.Churn == \"Yes\"].tenure\n",
        "plt.xlabel(\"Tenure\")\n",
        "plt.ylabel(\"No of customers\")\n",
        "plt.title(\"Customer churning visualization\")\n",
        "plt.hist([tenure_churn_no,tenure_churn_yes],color=[\"red\",\"green\"],label=[\"Churn=NO\",\"Churn=Yes\"])\n",
        "plt.legend()"
      ],
      "id": "1fecefae"
    },
    {
      "cell_type": "code",
      "execution_count": 13,
      "metadata": {
        "id": "ef641c16",
        "colab": {
          "base_uri": "https://localhost:8080/"
        },
        "outputId": "76d85258-72d7-46da-cede-074c36bc1c55"
      },
      "outputs": [
        {
          "output_type": "stream",
          "name": "stdout",
          "text": [
            "gender  :  ['Female' 'Male']\n",
            "Partner  :  ['Yes' 'No']\n",
            "Dependents  :  ['No' 'Yes']\n",
            "PhoneService  :  ['No' 'Yes']\n",
            "MultipleLines  :  ['No phone service' 'No' 'Yes']\n",
            "InternetService  :  ['DSL' 'Fiber optic' 'No']\n",
            "OnlineSecurity  :  ['No' 'Yes' 'No internet service']\n",
            "OnlineBackup  :  ['Yes' 'No' 'No internet service']\n",
            "DeviceProtection  :  ['No' 'Yes' 'No internet service']\n",
            "TechSupport  :  ['No' 'Yes' 'No internet service']\n",
            "StreamingTV  :  ['No' 'Yes' 'No internet service']\n",
            "StreamingMovies  :  ['No' 'Yes' 'No internet service']\n",
            "Contract  :  ['Month-to-month' 'One year' 'Two year']\n",
            "PaperlessBilling  :  ['Yes' 'No']\n",
            "PaymentMethod  :  ['Electronic check' 'Mailed check' 'Bank transfer (automatic)'\n",
            " 'Credit card (automatic)']\n",
            "Churn  :  ['No' 'Yes']\n"
          ]
        }
      ],
      "source": [
        "for column in df:\n",
        "    if df[column].dtypes=='object':\n",
        "        print(f'{column}  :  {df[column].unique()}')"
      ],
      "id": "ef641c16"
    },
    {
      "cell_type": "code",
      "execution_count": 14,
      "metadata": {
        "id": "f6839b66",
        "colab": {
          "base_uri": "https://localhost:8080/"
        },
        "outputId": "43d0f24a-726a-4b88-b2eb-792ab54666d0"
      },
      "outputs": [
        {
          "output_type": "stream",
          "name": "stderr",
          "text": [
            "/usr/local/lib/python3.7/dist-packages/pandas/core/frame.py:5244: SettingWithCopyWarning: \n",
            "A value is trying to be set on a copy of a slice from a DataFrame\n",
            "\n",
            "See the caveats in the documentation: https://pandas.pydata.org/pandas-docs/stable/user_guide/indexing.html#returning-a-view-versus-a-copy\n",
            "  method=method,\n"
          ]
        }
      ],
      "source": [
        "# Bringing some uniformity to data (cleaning)\n",
        "df.replace(\"No internet service\",\"No\",inplace=True)\n",
        "df.replace(\"No phone service\",\"No\",inplace=True)"
      ],
      "id": "f6839b66"
    },
    {
      "cell_type": "code",
      "execution_count": 15,
      "metadata": {
        "id": "a3c3371c",
        "colab": {
          "base_uri": "https://localhost:8080/"
        },
        "outputId": "edb93b0a-6dd8-48ea-afd6-92fa196afd5d"
      },
      "outputs": [
        {
          "output_type": "execute_result",
          "data": {
            "text/plain": [
              "array(['No', 'Yes'], dtype=object)"
            ]
          },
          "metadata": {},
          "execution_count": 15
        }
      ],
      "source": [
        "df[\"TechSupport\"].unique()"
      ],
      "id": "a3c3371c"
    },
    {
      "cell_type": "code",
      "execution_count": 16,
      "metadata": {
        "id": "4fdb1c9a",
        "scrolled": true,
        "colab": {
          "base_uri": "https://localhost:8080/"
        },
        "outputId": "a0404e8e-4b48-4fc7-9d4b-21d3ec75ab28"
      },
      "outputs": [
        {
          "output_type": "stream",
          "name": "stderr",
          "text": [
            "/usr/local/lib/python3.7/dist-packages/pandas/core/generic.py:6619: SettingWithCopyWarning: \n",
            "A value is trying to be set on a copy of a slice from a DataFrame\n",
            "\n",
            "See the caveats in the documentation: https://pandas.pydata.org/pandas-docs/stable/user_guide/indexing.html#returning-a-view-versus-a-copy\n",
            "  return self._update_inplace(result)\n"
          ]
        }
      ],
      "source": [
        "# columns with yes no values \n",
        "yes_no_cols=[]\n",
        "for cols in df:\n",
        "    if df[cols].unique().tolist()[0]=='Yes' or df[cols].unique().tolist()[1]=='Yes':\n",
        "        yes_no_cols.append(cols)\n",
        "# yes_no_cols\n",
        "# replace yes with 1, no with 0\n",
        "for col in yes_no_cols:\n",
        "    df[col].replace({'Yes':1,'No':0},inplace=True)"
      ],
      "id": "4fdb1c9a"
    },
    {
      "cell_type": "code",
      "execution_count": 17,
      "metadata": {
        "id": "3a775435",
        "colab": {
          "base_uri": "https://localhost:8080/"
        },
        "outputId": "dc7e125d-8c83-4851-919c-46a33a67dc32"
      },
      "outputs": [
        {
          "output_type": "stream",
          "name": "stderr",
          "text": [
            "/usr/local/lib/python3.7/dist-packages/pandas/core/generic.py:6619: SettingWithCopyWarning: \n",
            "A value is trying to be set on a copy of a slice from a DataFrame\n",
            "\n",
            "See the caveats in the documentation: https://pandas.pydata.org/pandas-docs/stable/user_guide/indexing.html#returning-a-view-versus-a-copy\n",
            "  return self._update_inplace(result)\n"
          ]
        }
      ],
      "source": [
        "# replacing gender entries with 1's and 0's\n",
        "df.gender.replace({'Female':1,'Male':0},inplace=True)"
      ],
      "id": "3a775435"
    },
    {
      "cell_type": "code",
      "execution_count": 18,
      "metadata": {
        "id": "005a2873",
        "colab": {
          "base_uri": "https://localhost:8080/"
        },
        "outputId": "306261b2-e677-49c1-ad36-9d3c0f9561d4"
      },
      "outputs": [
        {
          "output_type": "execute_result",
          "data": {
            "text/plain": [
              "array([1, 0])"
            ]
          },
          "metadata": {},
          "execution_count": 18
        }
      ],
      "source": [
        "df.gender.unique()"
      ],
      "id": "005a2873"
    },
    {
      "cell_type": "code",
      "execution_count": 19,
      "metadata": {
        "id": "d17a4bd1"
      },
      "outputs": [],
      "source": [
        "# do one hot encoding for the remaining columns...\n",
        "df1=pd.get_dummies(data=df,columns=[\"InternetService\",\"Contract\",\"PaymentMethod\"])"
      ],
      "id": "d17a4bd1"
    },
    {
      "cell_type": "code",
      "execution_count": 20,
      "metadata": {
        "id": "1495300d",
        "scrolled": true,
        "colab": {
          "base_uri": "https://localhost:8080/",
          "height": 334
        },
        "outputId": "38564dfe-1137-4f68-cd7d-fff02ef680b2"
      },
      "outputs": [
        {
          "output_type": "execute_result",
          "data": {
            "text/plain": [
              "   gender  SeniorCitizen  Partner  Dependents  tenure  PhoneService  \\\n",
              "0       1              0        1           0       1             0   \n",
              "1       0              0        0           0      34             1   \n",
              "2       0              0        0           0       2             1   \n",
              "3       0              0        0           0      45             0   \n",
              "4       1              0        0           0       2             1   \n",
              "\n",
              "   MultipleLines  OnlineSecurity  OnlineBackup  DeviceProtection  ...  \\\n",
              "0              0               0             1                 0  ...   \n",
              "1              0               1             0                 1  ...   \n",
              "2              0               1             1                 0  ...   \n",
              "3              0               1             0                 1  ...   \n",
              "4              0               0             0                 0  ...   \n",
              "\n",
              "   InternetService_DSL  InternetService_Fiber optic  InternetService_No  \\\n",
              "0                    1                            0                   0   \n",
              "1                    1                            0                   0   \n",
              "2                    1                            0                   0   \n",
              "3                    1                            0                   0   \n",
              "4                    0                            1                   0   \n",
              "\n",
              "   Contract_Month-to-month  Contract_One year  Contract_Two year  \\\n",
              "0                        1                  0                  0   \n",
              "1                        0                  1                  0   \n",
              "2                        1                  0                  0   \n",
              "3                        0                  1                  0   \n",
              "4                        1                  0                  0   \n",
              "\n",
              "   PaymentMethod_Bank transfer (automatic)  \\\n",
              "0                                        0   \n",
              "1                                        0   \n",
              "2                                        0   \n",
              "3                                        1   \n",
              "4                                        0   \n",
              "\n",
              "   PaymentMethod_Credit card (automatic)  PaymentMethod_Electronic check  \\\n",
              "0                                      0                               1   \n",
              "1                                      0                               0   \n",
              "2                                      0                               0   \n",
              "3                                      0                               0   \n",
              "4                                      0                               1   \n",
              "\n",
              "   PaymentMethod_Mailed check  \n",
              "0                           0  \n",
              "1                           1  \n",
              "2                           1  \n",
              "3                           0  \n",
              "4                           0  \n",
              "\n",
              "[5 rows x 27 columns]"
            ],
            "text/html": [
              "\n",
              "  <div id=\"df-1d16000c-8d65-47d3-9ba1-85702a5ea6bc\">\n",
              "    <div class=\"colab-df-container\">\n",
              "      <div>\n",
              "<style scoped>\n",
              "    .dataframe tbody tr th:only-of-type {\n",
              "        vertical-align: middle;\n",
              "    }\n",
              "\n",
              "    .dataframe tbody tr th {\n",
              "        vertical-align: top;\n",
              "    }\n",
              "\n",
              "    .dataframe thead th {\n",
              "        text-align: right;\n",
              "    }\n",
              "</style>\n",
              "<table border=\"1\" class=\"dataframe\">\n",
              "  <thead>\n",
              "    <tr style=\"text-align: right;\">\n",
              "      <th></th>\n",
              "      <th>gender</th>\n",
              "      <th>SeniorCitizen</th>\n",
              "      <th>Partner</th>\n",
              "      <th>Dependents</th>\n",
              "      <th>tenure</th>\n",
              "      <th>PhoneService</th>\n",
              "      <th>MultipleLines</th>\n",
              "      <th>OnlineSecurity</th>\n",
              "      <th>OnlineBackup</th>\n",
              "      <th>DeviceProtection</th>\n",
              "      <th>...</th>\n",
              "      <th>InternetService_DSL</th>\n",
              "      <th>InternetService_Fiber optic</th>\n",
              "      <th>InternetService_No</th>\n",
              "      <th>Contract_Month-to-month</th>\n",
              "      <th>Contract_One year</th>\n",
              "      <th>Contract_Two year</th>\n",
              "      <th>PaymentMethod_Bank transfer (automatic)</th>\n",
              "      <th>PaymentMethod_Credit card (automatic)</th>\n",
              "      <th>PaymentMethod_Electronic check</th>\n",
              "      <th>PaymentMethod_Mailed check</th>\n",
              "    </tr>\n",
              "  </thead>\n",
              "  <tbody>\n",
              "    <tr>\n",
              "      <th>0</th>\n",
              "      <td>1</td>\n",
              "      <td>0</td>\n",
              "      <td>1</td>\n",
              "      <td>0</td>\n",
              "      <td>1</td>\n",
              "      <td>0</td>\n",
              "      <td>0</td>\n",
              "      <td>0</td>\n",
              "      <td>1</td>\n",
              "      <td>0</td>\n",
              "      <td>...</td>\n",
              "      <td>1</td>\n",
              "      <td>0</td>\n",
              "      <td>0</td>\n",
              "      <td>1</td>\n",
              "      <td>0</td>\n",
              "      <td>0</td>\n",
              "      <td>0</td>\n",
              "      <td>0</td>\n",
              "      <td>1</td>\n",
              "      <td>0</td>\n",
              "    </tr>\n",
              "    <tr>\n",
              "      <th>1</th>\n",
              "      <td>0</td>\n",
              "      <td>0</td>\n",
              "      <td>0</td>\n",
              "      <td>0</td>\n",
              "      <td>34</td>\n",
              "      <td>1</td>\n",
              "      <td>0</td>\n",
              "      <td>1</td>\n",
              "      <td>0</td>\n",
              "      <td>1</td>\n",
              "      <td>...</td>\n",
              "      <td>1</td>\n",
              "      <td>0</td>\n",
              "      <td>0</td>\n",
              "      <td>0</td>\n",
              "      <td>1</td>\n",
              "      <td>0</td>\n",
              "      <td>0</td>\n",
              "      <td>0</td>\n",
              "      <td>0</td>\n",
              "      <td>1</td>\n",
              "    </tr>\n",
              "    <tr>\n",
              "      <th>2</th>\n",
              "      <td>0</td>\n",
              "      <td>0</td>\n",
              "      <td>0</td>\n",
              "      <td>0</td>\n",
              "      <td>2</td>\n",
              "      <td>1</td>\n",
              "      <td>0</td>\n",
              "      <td>1</td>\n",
              "      <td>1</td>\n",
              "      <td>0</td>\n",
              "      <td>...</td>\n",
              "      <td>1</td>\n",
              "      <td>0</td>\n",
              "      <td>0</td>\n",
              "      <td>1</td>\n",
              "      <td>0</td>\n",
              "      <td>0</td>\n",
              "      <td>0</td>\n",
              "      <td>0</td>\n",
              "      <td>0</td>\n",
              "      <td>1</td>\n",
              "    </tr>\n",
              "    <tr>\n",
              "      <th>3</th>\n",
              "      <td>0</td>\n",
              "      <td>0</td>\n",
              "      <td>0</td>\n",
              "      <td>0</td>\n",
              "      <td>45</td>\n",
              "      <td>0</td>\n",
              "      <td>0</td>\n",
              "      <td>1</td>\n",
              "      <td>0</td>\n",
              "      <td>1</td>\n",
              "      <td>...</td>\n",
              "      <td>1</td>\n",
              "      <td>0</td>\n",
              "      <td>0</td>\n",
              "      <td>0</td>\n",
              "      <td>1</td>\n",
              "      <td>0</td>\n",
              "      <td>1</td>\n",
              "      <td>0</td>\n",
              "      <td>0</td>\n",
              "      <td>0</td>\n",
              "    </tr>\n",
              "    <tr>\n",
              "      <th>4</th>\n",
              "      <td>1</td>\n",
              "      <td>0</td>\n",
              "      <td>0</td>\n",
              "      <td>0</td>\n",
              "      <td>2</td>\n",
              "      <td>1</td>\n",
              "      <td>0</td>\n",
              "      <td>0</td>\n",
              "      <td>0</td>\n",
              "      <td>0</td>\n",
              "      <td>...</td>\n",
              "      <td>0</td>\n",
              "      <td>1</td>\n",
              "      <td>0</td>\n",
              "      <td>1</td>\n",
              "      <td>0</td>\n",
              "      <td>0</td>\n",
              "      <td>0</td>\n",
              "      <td>0</td>\n",
              "      <td>1</td>\n",
              "      <td>0</td>\n",
              "    </tr>\n",
              "  </tbody>\n",
              "</table>\n",
              "<p>5 rows × 27 columns</p>\n",
              "</div>\n",
              "      <button class=\"colab-df-convert\" onclick=\"convertToInteractive('df-1d16000c-8d65-47d3-9ba1-85702a5ea6bc')\"\n",
              "              title=\"Convert this dataframe to an interactive table.\"\n",
              "              style=\"display:none;\">\n",
              "        \n",
              "  <svg xmlns=\"http://www.w3.org/2000/svg\" height=\"24px\"viewBox=\"0 0 24 24\"\n",
              "       width=\"24px\">\n",
              "    <path d=\"M0 0h24v24H0V0z\" fill=\"none\"/>\n",
              "    <path d=\"M18.56 5.44l.94 2.06.94-2.06 2.06-.94-2.06-.94-.94-2.06-.94 2.06-2.06.94zm-11 1L8.5 8.5l.94-2.06 2.06-.94-2.06-.94L8.5 2.5l-.94 2.06-2.06.94zm10 10l.94 2.06.94-2.06 2.06-.94-2.06-.94-.94-2.06-.94 2.06-2.06.94z\"/><path d=\"M17.41 7.96l-1.37-1.37c-.4-.4-.92-.59-1.43-.59-.52 0-1.04.2-1.43.59L10.3 9.45l-7.72 7.72c-.78.78-.78 2.05 0 2.83L4 21.41c.39.39.9.59 1.41.59.51 0 1.02-.2 1.41-.59l7.78-7.78 2.81-2.81c.8-.78.8-2.07 0-2.86zM5.41 20L4 18.59l7.72-7.72 1.47 1.35L5.41 20z\"/>\n",
              "  </svg>\n",
              "      </button>\n",
              "      \n",
              "  <style>\n",
              "    .colab-df-container {\n",
              "      display:flex;\n",
              "      flex-wrap:wrap;\n",
              "      gap: 12px;\n",
              "    }\n",
              "\n",
              "    .colab-df-convert {\n",
              "      background-color: #E8F0FE;\n",
              "      border: none;\n",
              "      border-radius: 50%;\n",
              "      cursor: pointer;\n",
              "      display: none;\n",
              "      fill: #1967D2;\n",
              "      height: 32px;\n",
              "      padding: 0 0 0 0;\n",
              "      width: 32px;\n",
              "    }\n",
              "\n",
              "    .colab-df-convert:hover {\n",
              "      background-color: #E2EBFA;\n",
              "      box-shadow: 0px 1px 2px rgba(60, 64, 67, 0.3), 0px 1px 3px 1px rgba(60, 64, 67, 0.15);\n",
              "      fill: #174EA6;\n",
              "    }\n",
              "\n",
              "    [theme=dark] .colab-df-convert {\n",
              "      background-color: #3B4455;\n",
              "      fill: #D2E3FC;\n",
              "    }\n",
              "\n",
              "    [theme=dark] .colab-df-convert:hover {\n",
              "      background-color: #434B5C;\n",
              "      box-shadow: 0px 1px 3px 1px rgba(0, 0, 0, 0.15);\n",
              "      filter: drop-shadow(0px 1px 2px rgba(0, 0, 0, 0.3));\n",
              "      fill: #FFFFFF;\n",
              "    }\n",
              "  </style>\n",
              "\n",
              "      <script>\n",
              "        const buttonEl =\n",
              "          document.querySelector('#df-1d16000c-8d65-47d3-9ba1-85702a5ea6bc button.colab-df-convert');\n",
              "        buttonEl.style.display =\n",
              "          google.colab.kernel.accessAllowed ? 'block' : 'none';\n",
              "\n",
              "        async function convertToInteractive(key) {\n",
              "          const element = document.querySelector('#df-1d16000c-8d65-47d3-9ba1-85702a5ea6bc');\n",
              "          const dataTable =\n",
              "            await google.colab.kernel.invokeFunction('convertToInteractive',\n",
              "                                                     [key], {});\n",
              "          if (!dataTable) return;\n",
              "\n",
              "          const docLinkHtml = 'Like what you see? Visit the ' +\n",
              "            '<a target=\"_blank\" href=https://colab.research.google.com/notebooks/data_table.ipynb>data table notebook</a>'\n",
              "            + ' to learn more about interactive tables.';\n",
              "          element.innerHTML = '';\n",
              "          dataTable['output_type'] = 'display_data';\n",
              "          await google.colab.output.renderOutput(dataTable, element);\n",
              "          const docLink = document.createElement('div');\n",
              "          docLink.innerHTML = docLinkHtml;\n",
              "          element.appendChild(docLink);\n",
              "        }\n",
              "      </script>\n",
              "    </div>\n",
              "  </div>\n",
              "  "
            ]
          },
          "metadata": {},
          "execution_count": 20
        }
      ],
      "source": [
        "df1.head()"
      ],
      "id": "1495300d"
    },
    {
      "cell_type": "code",
      "execution_count": 21,
      "metadata": {
        "id": "8847b4f4",
        "colab": {
          "base_uri": "https://localhost:8080/"
        },
        "outputId": "3ba6ccbd-6231-422b-c5c4-ce38ec26fdc4"
      },
      "outputs": [
        {
          "output_type": "execute_result",
          "data": {
            "text/plain": [
              "['tenure', 'MonthlyCharges', 'TotalCharges']"
            ]
          },
          "metadata": {},
          "execution_count": 21
        }
      ],
      "source": [
        "# columns whose values are greater than 1 and need to be scaled to values btn 0 and 1\n",
        "cols_to_scale = [\"tenure\"]\n",
        "for col in df1:\n",
        "    if df1[col].dtype == 'float64':\n",
        "        cols_to_scale.append(col)\n",
        "cols_to_scale"
      ],
      "id": "8847b4f4"
    },
    {
      "cell_type": "code",
      "execution_count": 22,
      "metadata": {
        "id": "242ace21"
      },
      "outputs": [],
      "source": [
        "# scaling the cols...\n",
        "from sklearn.preprocessing import MinMaxScaler\n",
        "scaler= MinMaxScaler()\n",
        "\n",
        "df1[cols_to_scale]=scaler.fit_transform(df1[cols_to_scale])"
      ],
      "id": "242ace21"
    },
    {
      "cell_type": "code",
      "execution_count": 23,
      "metadata": {
        "id": "2f6eaa55",
        "scrolled": true
      },
      "outputs": [],
      "source": [
        "# data frame is now ready for use\n",
        "features=[] #list of features to use for training\n",
        "for col in df1:\n",
        "    if col !=\"Churn\":\n",
        "        features.append(col)\n",
        "\n",
        "X=df1[features]\n",
        "# value to predict (whether customer will chrun or not)\n",
        "y=df1[\"Churn\"] "
      ],
      "id": "2f6eaa55"
    },
    {
      "cell_type": "code",
      "execution_count": 24,
      "metadata": {
        "id": "350a1b6b",
        "colab": {
          "base_uri": "https://localhost:8080/"
        },
        "outputId": "9248a3df-f82d-4c1d-f1fb-1a0ac80ebc64"
      },
      "outputs": [
        {
          "output_type": "execute_result",
          "data": {
            "text/plain": [
              "((5977, 26), (5080, 26), (5977,), (5080,))"
            ]
          },
          "metadata": {},
          "execution_count": 24
        }
      ],
      "source": [
        "# spliting the data\n",
        "from sklearn.model_selection import train_test_split\n",
        "trainX,X_test,trainy,y_test = train_test_split(X,y,test_size=0.15,random_state=1)\n",
        "trainX.shape , trainy.shape\n",
        "X_train,X_val,y_train,y_val =train_test_split(trainX,trainy, test_size=0.15,random_state=1)\n",
        "trainX.shape,X_train.shape , trainy.shape ,y_train.shape"
      ],
      "id": "350a1b6b"
    },
    {
      "cell_type": "code",
      "execution_count": 25,
      "metadata": {
        "colab": {
          "base_uri": "https://localhost:8080/"
        },
        "id": "a6809059",
        "outputId": "e9a1194f-17f8-45c5-b979-0fde2e6c0a6e"
      },
      "outputs": [
        {
          "output_type": "stream",
          "name": "stdout",
          "text": [
            "Training data : (5080, 26)\n",
            "Validating data : (897, 26)\n",
            "Testing data : (1055, 26)\n"
          ]
        }
      ],
      "source": [
        "print(f'Training data : {X_train.shape}')\n",
        "print(f'Validating data : {X_val.shape}')\n",
        "print(f'Testing data : {X_test.shape}')"
      ],
      "id": "a6809059"
    },
    {
      "cell_type": "code",
      "execution_count": 26,
      "metadata": {
        "colab": {
          "base_uri": "https://localhost:8080/"
        },
        "id": "fee7fd99",
        "outputId": "8a2c5fe1-8732-43b9-e687-71b925655abf"
      },
      "outputs": [
        {
          "output_type": "execute_result",
          "data": {
            "text/plain": [
              "26"
            ]
          },
          "metadata": {},
          "execution_count": 26
        }
      ],
      "source": [
        "len(X_train.columns)"
      ],
      "id": "fee7fd99"
    },
    {
      "cell_type": "code",
      "execution_count": 27,
      "metadata": {
        "id": "125d3ab2",
        "colab": {
          "base_uri": "https://localhost:8080/"
        },
        "outputId": "c555666c-4f0f-49e5-b1a6-45f22cc10ab7"
      },
      "outputs": [
        {
          "output_type": "stream",
          "name": "stdout",
          "text": [
            "Epoch 1/40\n",
            "159/159 [==============================] - 1s 3ms/step - loss: 0.5688 - accuracy: 0.6976 - val_loss: 0.4816 - val_accuracy: 0.7402\n",
            "Epoch 2/40\n",
            "159/159 [==============================] - 0s 2ms/step - loss: 0.4439 - accuracy: 0.7693 - val_loss: 0.4590 - val_accuracy: 0.7793\n",
            "Epoch 3/40\n",
            "159/159 [==============================] - 0s 2ms/step - loss: 0.4275 - accuracy: 0.7951 - val_loss: 0.4554 - val_accuracy: 0.7860\n",
            "Epoch 4/40\n",
            "159/159 [==============================] - 0s 2ms/step - loss: 0.4213 - accuracy: 0.8014 - val_loss: 0.4561 - val_accuracy: 0.7848\n",
            "Epoch 5/40\n",
            "159/159 [==============================] - 0s 2ms/step - loss: 0.4177 - accuracy: 0.8055 - val_loss: 0.4529 - val_accuracy: 0.7860\n",
            "Epoch 6/40\n",
            "159/159 [==============================] - 0s 2ms/step - loss: 0.4145 - accuracy: 0.8071 - val_loss: 0.4545 - val_accuracy: 0.7893\n",
            "Epoch 7/40\n",
            "159/159 [==============================] - 0s 2ms/step - loss: 0.4110 - accuracy: 0.8098 - val_loss: 0.4537 - val_accuracy: 0.7926\n",
            "Epoch 8/40\n",
            "159/159 [==============================] - 0s 2ms/step - loss: 0.4096 - accuracy: 0.8126 - val_loss: 0.4542 - val_accuracy: 0.7882\n",
            "Epoch 9/40\n",
            "159/159 [==============================] - 0s 2ms/step - loss: 0.4080 - accuracy: 0.8122 - val_loss: 0.4577 - val_accuracy: 0.7860\n",
            "Epoch 10/40\n",
            "159/159 [==============================] - 0s 2ms/step - loss: 0.4047 - accuracy: 0.8185 - val_loss: 0.4533 - val_accuracy: 0.7904\n",
            "Epoch 11/40\n",
            "159/159 [==============================] - 0s 2ms/step - loss: 0.4048 - accuracy: 0.8159 - val_loss: 0.4554 - val_accuracy: 0.7804\n",
            "Epoch 12/40\n",
            "159/159 [==============================] - 0s 2ms/step - loss: 0.4025 - accuracy: 0.8185 - val_loss: 0.4518 - val_accuracy: 0.7904\n",
            "Epoch 13/40\n",
            "159/159 [==============================] - 0s 2ms/step - loss: 0.4019 - accuracy: 0.8185 - val_loss: 0.4587 - val_accuracy: 0.7860\n",
            "Epoch 14/40\n",
            "159/159 [==============================] - 0s 2ms/step - loss: 0.3991 - accuracy: 0.8193 - val_loss: 0.4616 - val_accuracy: 0.7893\n",
            "Epoch 15/40\n",
            "159/159 [==============================] - 0s 2ms/step - loss: 0.3987 - accuracy: 0.8197 - val_loss: 0.4558 - val_accuracy: 0.7926\n",
            "Epoch 16/40\n",
            "159/159 [==============================] - 0s 2ms/step - loss: 0.3972 - accuracy: 0.8232 - val_loss: 0.4603 - val_accuracy: 0.7837\n",
            "Epoch 17/40\n",
            "159/159 [==============================] - 0s 2ms/step - loss: 0.3982 - accuracy: 0.8185 - val_loss: 0.4565 - val_accuracy: 0.7848\n",
            "Epoch 18/40\n",
            "159/159 [==============================] - 0s 2ms/step - loss: 0.3956 - accuracy: 0.8234 - val_loss: 0.4580 - val_accuracy: 0.7893\n",
            "Epoch 19/40\n",
            "159/159 [==============================] - 0s 2ms/step - loss: 0.3938 - accuracy: 0.8207 - val_loss: 0.4585 - val_accuracy: 0.7871\n",
            "Epoch 20/40\n",
            "159/159 [==============================] - 0s 2ms/step - loss: 0.3927 - accuracy: 0.8240 - val_loss: 0.4597 - val_accuracy: 0.7915\n",
            "Epoch 21/40\n",
            "159/159 [==============================] - 0s 2ms/step - loss: 0.3922 - accuracy: 0.8238 - val_loss: 0.4632 - val_accuracy: 0.7848\n",
            "Epoch 22/40\n",
            "159/159 [==============================] - 0s 2ms/step - loss: 0.3928 - accuracy: 0.8215 - val_loss: 0.4574 - val_accuracy: 0.7882\n",
            "Epoch 23/40\n",
            "159/159 [==============================] - 0s 2ms/step - loss: 0.3891 - accuracy: 0.8246 - val_loss: 0.4575 - val_accuracy: 0.7793\n",
            "Epoch 24/40\n",
            "159/159 [==============================] - 0s 2ms/step - loss: 0.3886 - accuracy: 0.8254 - val_loss: 0.4599 - val_accuracy: 0.7893\n",
            "Epoch 25/40\n",
            "159/159 [==============================] - 0s 2ms/step - loss: 0.3884 - accuracy: 0.8254 - val_loss: 0.4621 - val_accuracy: 0.7882\n",
            "Epoch 26/40\n",
            "159/159 [==============================] - 0s 2ms/step - loss: 0.3873 - accuracy: 0.8258 - val_loss: 0.4623 - val_accuracy: 0.7871\n",
            "Epoch 27/40\n",
            "159/159 [==============================] - 0s 2ms/step - loss: 0.3865 - accuracy: 0.8248 - val_loss: 0.4667 - val_accuracy: 0.7848\n",
            "Epoch 28/40\n",
            "159/159 [==============================] - 0s 2ms/step - loss: 0.3869 - accuracy: 0.8244 - val_loss: 0.4582 - val_accuracy: 0.7871\n",
            "Epoch 29/40\n",
            "159/159 [==============================] - 0s 2ms/step - loss: 0.3855 - accuracy: 0.8264 - val_loss: 0.4620 - val_accuracy: 0.7860\n",
            "Epoch 30/40\n",
            "159/159 [==============================] - 0s 2ms/step - loss: 0.3836 - accuracy: 0.8262 - val_loss: 0.4666 - val_accuracy: 0.7848\n",
            "Epoch 31/40\n",
            "159/159 [==============================] - 0s 2ms/step - loss: 0.3831 - accuracy: 0.8260 - val_loss: 0.4699 - val_accuracy: 0.7804\n",
            "Epoch 32/40\n",
            "159/159 [==============================] - 0s 2ms/step - loss: 0.3817 - accuracy: 0.8291 - val_loss: 0.4662 - val_accuracy: 0.7848\n",
            "Epoch 33/40\n",
            "159/159 [==============================] - 0s 2ms/step - loss: 0.3819 - accuracy: 0.8299 - val_loss: 0.4707 - val_accuracy: 0.7871\n",
            "Epoch 34/40\n",
            "159/159 [==============================] - 0s 2ms/step - loss: 0.3811 - accuracy: 0.8285 - val_loss: 0.4739 - val_accuracy: 0.7826\n",
            "Epoch 35/40\n",
            "159/159 [==============================] - 0s 2ms/step - loss: 0.3796 - accuracy: 0.8299 - val_loss: 0.4733 - val_accuracy: 0.7837\n",
            "Epoch 36/40\n",
            "159/159 [==============================] - 0s 2ms/step - loss: 0.3781 - accuracy: 0.8293 - val_loss: 0.4689 - val_accuracy: 0.7837\n",
            "Epoch 37/40\n",
            "159/159 [==============================] - 0s 2ms/step - loss: 0.3784 - accuracy: 0.8289 - val_loss: 0.4781 - val_accuracy: 0.7871\n",
            "Epoch 38/40\n",
            "159/159 [==============================] - 0s 2ms/step - loss: 0.3770 - accuracy: 0.8303 - val_loss: 0.4751 - val_accuracy: 0.7804\n",
            "Epoch 39/40\n",
            "159/159 [==============================] - 0s 2ms/step - loss: 0.3765 - accuracy: 0.8283 - val_loss: 0.4779 - val_accuracy: 0.7837\n",
            "Epoch 40/40\n",
            "159/159 [==============================] - 0s 2ms/step - loss: 0.3761 - accuracy: 0.8285 - val_loss: 0.4766 - val_accuracy: 0.7882\n"
          ]
        },
        {
          "output_type": "execute_result",
          "data": {
            "text/plain": [
              "<keras.callbacks.History at 0x7f8181f9d090>"
            ]
          },
          "metadata": {},
          "execution_count": 27
        }
      ],
      "source": [
        "# creating the neural network\n",
        "import tensorflow as tf\n",
        "from tensorflow import keras\n",
        "\n",
        "model=keras.Sequential([\n",
        "  keras.layers.Dense(20, input_shape=(26,),activation='relu'),\n",
        "  keras.layers.Dense(15, activation='relu'),\n",
        "  keras.layers.Dense(10,activation='relu'),\n",
        "  keras.layers.Dense(5,activation='relu'),\n",
        "  keras.layers.Dense(1,activation='sigmoid')\n",
        "])\n",
        "model.compile(optimizer='adam',\n",
        "              loss='binary_crossentropy',\n",
        "              metrics=['accuracy'])\n",
        "model.fit(X_train,y_train,epochs=40,validation_data=(X_val,y_val))"
      ],
      "id": "125d3ab2"
    },
    {
      "cell_type": "code",
      "execution_count": 28,
      "metadata": {
        "id": "qv0WTvRcwD3f",
        "colab": {
          "base_uri": "https://localhost:8080/"
        },
        "outputId": "ba4c9a98-c091-44f1-e784-14036130a5d0"
      },
      "outputs": [
        {
          "output_type": "execute_result",
          "data": {
            "text/plain": [
              "[0.4298083186149597, 0.7895734310150146]"
            ]
          },
          "metadata": {},
          "execution_count": 28
        }
      ],
      "source": [
        "# evaluating the model with testing data\n",
        "model.evaluate(X_test,y_test,verbose=0)"
      ],
      "id": "qv0WTvRcwD3f"
    },
    {
      "cell_type": "code",
      "execution_count": 29,
      "metadata": {
        "id": "vqZU6VCwwWND",
        "colab": {
          "base_uri": "https://localhost:8080/"
        },
        "outputId": "c6939526-ff89-4232-bd45-4f5777169b7e"
      },
      "outputs": [
        {
          "output_type": "execute_result",
          "data": {
            "text/plain": [
              "array([[0.0019148],\n",
              "       [0.724737 ],\n",
              "       [0.1280953],\n",
              "       [0.745771 ],\n",
              "       [0.5894564]], dtype=float32)"
            ]
          },
          "metadata": {},
          "execution_count": 29
        }
      ],
      "source": [
        "# predicting churn values with the model using testing data\n",
        "y_pred=model.predict(X_test)\n",
        "y_pred[:5]"
      ],
      "id": "vqZU6VCwwWND"
    },
    {
      "cell_type": "code",
      "execution_count": 30,
      "metadata": {
        "id": "p0_s-cgpw1Ey"
      },
      "outputs": [],
      "source": [
        "# converting the values to 1's and 0's\n",
        "pred_churn=[]\n",
        "for i in y_pred:\n",
        "  if i >=0.5:\n",
        "    pred_churn.append(1)\n",
        "  else:\n",
        "    pred_churn.append(0)"
      ],
      "id": "p0_s-cgpw1Ey"
    },
    {
      "cell_type": "code",
      "execution_count": 31,
      "metadata": {
        "id": "DYTOqVXKmx1V"
      },
      "outputs": [],
      "source": [
        "# converting the predictions back to yes and no\n",
        "def to_yes_no(lst):\n",
        "  newlst=[]\n",
        "  for i in lst:\n",
        "    if i==1:\n",
        "      newlst.append(\"Yes\")\n",
        "    else:\n",
        "      newlst.append(\"No \")\n",
        "  return newlst"
      ],
      "id": "DYTOqVXKmx1V"
    },
    {
      "cell_type": "code",
      "execution_count": 32,
      "metadata": {
        "id": "xEDQU_NTxNwL",
        "colab": {
          "base_uri": "https://localhost:8080/"
        },
        "outputId": "7435a331-48dd-45d5-ebdb-7565eb0ac283"
      },
      "outputs": [
        {
          "output_type": "stream",
          "name": "stdout",
          "text": [
            "First 10 predicted values from the testing data: ['No ', 'Yes', 'No ', 'Yes', 'Yes', 'Yes', 'No ', 'No ', 'No ', 'No ']\n",
            "First 10 real values from testing data:          ['No ', 'Yes', 'No ', 'No ', 'Yes', 'No ', 'No ', 'Yes', 'No ', 'No ']\n"
          ]
        }
      ],
      "source": [
        "# predicting 1st ten values and comparing to last ten real values\n",
        "print(f'First 10 predicted values from the testing data: {to_yes_no(pred_churn[:10])}')\n",
        "print(f'First 10 real values from testing data:          {to_yes_no(y_test[:10].tolist())}')"
      ],
      "id": "xEDQU_NTxNwL"
    },
    {
      "cell_type": "code",
      "execution_count": 33,
      "metadata": {
        "id": "c-WuM5snpo2m",
        "colab": {
          "base_uri": "https://localhost:8080/"
        },
        "outputId": "3d0a7092-9c47-48be-8e6d-e4e4fb9f6826"
      },
      "outputs": [
        {
          "output_type": "stream",
          "name": "stdout",
          "text": [
            "Last 10 predicted values from the testing data: ['Yes', 'No ', 'No ', 'No ', 'Yes', 'No ', 'No ', 'Yes', 'Yes', 'Yes']\n",
            "Last 10 real values from testing data:          ['Yes', 'Yes', 'Yes', 'No ', 'Yes', 'No ', 'No ', 'No ', 'No ', 'No ']\n"
          ]
        }
      ],
      "source": [
        "# predicting last ten values and comparing to last ten real values\n",
        "print(f'Last 10 predicted values from the testing data: {to_yes_no(pred_churn[-10:])}')\n",
        "print(f'Last 10 real values from testing data:          {to_yes_no(y_test[-10:].tolist())}')"
      ],
      "id": "c-WuM5snpo2m"
    },
    {
      "cell_type": "code",
      "execution_count": 34,
      "metadata": {
        "id": "2SLFngVwyKZx",
        "colab": {
          "base_uri": "https://localhost:8080/"
        },
        "outputId": "6bd9ccf4-bbac-418f-ebd2-d94bc82b28f8"
      },
      "outputs": [
        {
          "output_type": "stream",
          "name": "stdout",
          "text": [
            "              precision    recall  f1-score   support\n",
            "\n",
            "           0       0.84      0.88      0.86       788\n",
            "           1       0.60      0.52      0.55       267\n",
            "\n",
            "    accuracy                           0.79      1055\n",
            "   macro avg       0.72      0.70      0.71      1055\n",
            "weighted avg       0.78      0.79      0.78      1055\n",
            "\n"
          ]
        }
      ],
      "source": [
        "# accuracy measure\n",
        "from sklearn.metrics import classification_report\n",
        "print(classification_report(y_test,pred_churn))"
      ],
      "id": "2SLFngVwyKZx"
    }
  ],
  "metadata": {
    "colab": {
      "collapsed_sections": [],
      "name": "customer_retention.ipynb",
      "provenance": []
    },
    "kernelspec": {
      "display_name": "Python 3 (ipykernel)",
      "language": "python",
      "name": "python3"
    },
    "language_info": {
      "codemirror_mode": {
        "name": "ipython",
        "version": 3
      },
      "file_extension": ".py",
      "mimetype": "text/x-python",
      "name": "python",
      "nbconvert_exporter": "python",
      "pygments_lexer": "ipython3",
      "version": "3.9.12"
    }
  },
  "nbformat": 4,
  "nbformat_minor": 5
}